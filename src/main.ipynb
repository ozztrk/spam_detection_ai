{
 "cells": [
  {
   "cell_type": "markdown",
   "source": [
    "# Preprocessing"
   ],
   "metadata": {
    "collapsed": false
   }
  },
  {
   "cell_type": "code",
   "execution_count": 7,
   "outputs": [],
   "source": [
    "from bagofwords import BagOfWords\n",
    "from datapreprocessing import DataPreprocessing\n",
    "from naivebayes import NaiveBayes\n",
    "\n",
    "DATA_DIR = '../smsspamcollection/SMSSpamCollection'\n",
    "\n",
    "# Create Dataprep Object\n",
    "data_prep = DataPreprocessing(DATA_DIR)\n",
    "\n",
    "# Get the data\n",
    "corpus = data_prep.get_data()"
   ],
   "metadata": {
    "collapsed": false
   }
  },
  {
   "cell_type": "code",
   "execution_count": 8,
   "outputs": [],
   "source": [
    "# lower_text, remove_punctuation, tokenize_text\n",
    "processed_corpus = BagOfWords(corpus).prep_corpus()\n",
    "# split into train and test data\n",
    "train, test = data_prep.train_test_split(processed_corpus)\n",
    "\n",
    "# split labels y and messages x into separate lists\n",
    "X_train, y_train = DataPreprocessing.label_conversion(train)  # y_train is useless? TRAIN-Error?\n",
    "X_test, y_test = DataPreprocessing.label_conversion(test) # y-train (Labels)"
   ],
   "metadata": {
    "collapsed": false
   }
  },
  {
   "cell_type": "markdown",
   "source": [
    "# Train and run Tests"
   ],
   "metadata": {
    "collapsed": false
   }
  },
  {
   "cell_type": "code",
   "execution_count": 9,
   "outputs": [],
   "source": [
    "# split the messages into lists of words\n",
    "X_test = [message.split() for message in X_test]\n",
    "# print(X_test)\n",
    "\n",
    "# train Naive Bayes Classifier\n",
    "nb_clf = NaiveBayes(train)\n",
    "\n",
    "# prediction_i = 0 if 'ham'; prediction_i = 1 if 'spam'\n",
    "prediction_list = []\n",
    "for message in X_test:\n",
    "    prediction_list.append(0) if nb_clf.classify(message) == 'not spam' else prediction_list.append(1)\n",
    "    # print(nb_clf.classify(message), message)"
   ],
   "metadata": {
    "collapsed": false
   }
  },
  {
   "cell_type": "markdown",
   "source": [
    "# Evaluation"
   ],
   "metadata": {
    "collapsed": false
   }
  },
  {
   "cell_type": "code",
   "execution_count": 10,
   "outputs": [
    {
     "data": {
      "text/plain": "'the accuracy is 96.88'"
     },
     "execution_count": 10,
     "metadata": {},
     "output_type": "execute_result"
    }
   ],
   "source": [
    "def calculate_accuracy(predictions: list, labels: list) -> str:\n",
    "    size = len(labels)\n",
    "    accuracy_score = sum(prediction == label for prediction, label in zip(predictions, labels)) / size\n",
    "    return f'the accuracy is {round(accuracy_score * 100, 2)}'\n",
    "\n",
    "calculate_accuracy(prediction_list, y_test)"
   ],
   "metadata": {
    "collapsed": false
   }
  }
 ],
 "metadata": {
  "kernelspec": {
   "display_name": "Python 3",
   "language": "python",
   "name": "python3"
  },
  "language_info": {
   "codemirror_mode": {
    "name": "ipython",
    "version": 2
   },
   "file_extension": ".py",
   "mimetype": "text/x-python",
   "name": "python",
   "nbconvert_exporter": "python",
   "pygments_lexer": "ipython2",
   "version": "2.7.6"
  }
 },
 "nbformat": 4,
 "nbformat_minor": 0
}
